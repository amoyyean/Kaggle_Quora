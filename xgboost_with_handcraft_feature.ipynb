{
 "cells": [
  {
   "cell_type": "markdown",
   "metadata": {},
   "source": [
    "# Xgboost with handcraft feature\n",
    "In this notebook, we will use the xgboos to model the handcrafted features and make classification on the similarity of the two queries."
   ]
  },
  {
   "cell_type": "code",
   "execution_count": 1,
   "metadata": {
    "collapsed": false
   },
   "outputs": [
    {
     "name": "stderr",
     "output_type": "stream",
     "text": [
      "/home/peiran/anaconda3/lib/python3.5/site-packages/sklearn/cross_validation.py:44: DeprecationWarning: This module was deprecated in version 0.18 in favor of the model_selection module into which all the refactored classes and functions are moved. Also note that the interface of the new CV iterators are different from that of this module. This module will be removed in 0.20.\n",
      "  \"This module will be removed in 0.20.\", DeprecationWarning)\n"
     ]
    }
   ],
   "source": [
    "import pandas as pd\n",
    "import numpy as np\n",
    "import nltk\n",
    "from collections import Counter\n",
    "from nltk.corpus import stopwords\n",
    "from sklearn.metrics import log_loss\n",
    "from sklearn.feature_extraction.text import TfidfVectorizer, CountVectorizer\n",
    "from scipy.optimize import minimize\n",
    "stops = set(stopwords.words(\"english\"))\n",
    "import xgboost as xgb\n",
    "from sklearn.cross_validation import train_test_split\n",
    "import multiprocessing\n",
    "import difflib\n",
    "import os\n",
    "\n",
    "import matplotlib.pyplot as plt\n",
    "%matplotlib inline"
   ]
  },
  {
   "cell_type": "markdown",
   "metadata": {},
   "source": [
    "# Text Retrieval"
   ]
  },
  {
   "cell_type": "markdown",
   "metadata": {},
   "source": [
    "### Load data"
   ]
  },
  {
   "cell_type": "code",
   "execution_count": 2,
   "metadata": {
    "collapsed": false
   },
   "outputs": [],
   "source": [
    "train = pd.read_csv(\"../data/train.csv\")\n",
    "test = pd.read_csv(\"../data/test.csv\")"
   ]
  },
  {
   "cell_type": "code",
   "execution_count": 3,
   "metadata": {
    "collapsed": false
   },
   "outputs": [
    {
     "data": {
      "text/html": [
       "<div>\n",
       "<table border=\"1\" class=\"dataframe\">\n",
       "  <thead>\n",
       "    <tr style=\"text-align: right;\">\n",
       "      <th></th>\n",
       "      <th>id</th>\n",
       "      <th>qid1</th>\n",
       "      <th>qid2</th>\n",
       "      <th>question1</th>\n",
       "      <th>question2</th>\n",
       "      <th>is_duplicate</th>\n",
       "    </tr>\n",
       "  </thead>\n",
       "  <tbody>\n",
       "    <tr>\n",
       "      <th>0</th>\n",
       "      <td>0</td>\n",
       "      <td>1</td>\n",
       "      <td>2</td>\n",
       "      <td>What is the step by step guide to invest in sh...</td>\n",
       "      <td>What is the step by step guide to invest in sh...</td>\n",
       "      <td>0</td>\n",
       "    </tr>\n",
       "    <tr>\n",
       "      <th>1</th>\n",
       "      <td>1</td>\n",
       "      <td>3</td>\n",
       "      <td>4</td>\n",
       "      <td>What is the story of Kohinoor (Koh-i-Noor) Dia...</td>\n",
       "      <td>What would happen if the Indian government sto...</td>\n",
       "      <td>0</td>\n",
       "    </tr>\n",
       "  </tbody>\n",
       "</table>\n",
       "</div>"
      ],
      "text/plain": [
       "   id  qid1  qid2                                          question1  \\\n",
       "0   0     1     2  What is the step by step guide to invest in sh...   \n",
       "1   1     3     4  What is the story of Kohinoor (Koh-i-Noor) Dia...   \n",
       "\n",
       "                                           question2  is_duplicate  \n",
       "0  What is the step by step guide to invest in sh...             0  \n",
       "1  What would happen if the Indian government sto...             0  "
      ]
     },
     "execution_count": 3,
     "metadata": {},
     "output_type": "execute_result"
    }
   ],
   "source": [
    "train.head(2)"
   ]
  },
  {
   "cell_type": "code",
   "execution_count": 4,
   "metadata": {
    "collapsed": false
   },
   "outputs": [
    {
     "data": {
      "text/html": [
       "<div>\n",
       "<table border=\"1\" class=\"dataframe\">\n",
       "  <thead>\n",
       "    <tr style=\"text-align: right;\">\n",
       "      <th></th>\n",
       "      <th>test_id</th>\n",
       "      <th>question1</th>\n",
       "      <th>question2</th>\n",
       "    </tr>\n",
       "  </thead>\n",
       "  <tbody>\n",
       "    <tr>\n",
       "      <th>0</th>\n",
       "      <td>0</td>\n",
       "      <td>How does the Surface Pro himself 4 compare wit...</td>\n",
       "      <td>Why did Microsoft choose core m3 and not core ...</td>\n",
       "    </tr>\n",
       "    <tr>\n",
       "      <th>1</th>\n",
       "      <td>1</td>\n",
       "      <td>Should I have a hair transplant at age 24? How...</td>\n",
       "      <td>How much cost does hair transplant require?</td>\n",
       "    </tr>\n",
       "  </tbody>\n",
       "</table>\n",
       "</div>"
      ],
      "text/plain": [
       "   test_id                                          question1  \\\n",
       "0        0  How does the Surface Pro himself 4 compare wit...   \n",
       "1        1  Should I have a hair transplant at age 24? How...   \n",
       "\n",
       "                                           question2  \n",
       "0  Why did Microsoft choose core m3 and not core ...  \n",
       "1        How much cost does hair transplant require?  "
      ]
     },
     "execution_count": 4,
     "metadata": {},
     "output_type": "execute_result"
    }
   ],
   "source": [
    "test.head(2)"
   ]
  },
  {
   "cell_type": "code",
   "execution_count": 5,
   "metadata": {
    "collapsed": false
   },
   "outputs": [
    {
     "name": "stdout",
     "output_type": "stream",
     "text": [
      "<class 'pandas.core.frame.DataFrame'>\n",
      "RangeIndex: 404290 entries, 0 to 404289\n",
      "Data columns (total 6 columns):\n",
      "id              404290 non-null int64\n",
      "qid1            404290 non-null int64\n",
      "qid2            404290 non-null int64\n",
      "question1       404290 non-null object\n",
      "question2       404288 non-null object\n",
      "is_duplicate    404290 non-null int64\n",
      "dtypes: int64(4), object(2)\n",
      "memory usage: 18.5+ MB\n"
     ]
    }
   ],
   "source": [
    "train.info()"
   ]
  },
  {
   "cell_type": "code",
   "execution_count": 6,
   "metadata": {
    "collapsed": false
   },
   "outputs": [
    {
     "name": "stdout",
     "output_type": "stream",
     "text": [
      "<class 'pandas.core.frame.DataFrame'>\n",
      "RangeIndex: 2345796 entries, 0 to 2345795\n",
      "Data columns (total 3 columns):\n",
      "test_id      int64\n",
      "question1    object\n",
      "question2    object\n",
      "dtypes: int64(1), object(2)\n",
      "memory usage: 53.7+ MB\n"
     ]
    }
   ],
   "source": [
    "test.info()"
   ]
  },
  {
   "cell_type": "markdown",
   "metadata": {},
   "source": [
    "### Text processing"
   ]
  },
  {
   "cell_type": "code",
   "execution_count": 7,
   "metadata": {
    "collapsed": false
   },
   "outputs": [
    {
     "data": {
      "text/plain": [
       "Index(['id', 'qid1', 'qid2', 'question1', 'question2', 'is_duplicate'], dtype='object')"
      ]
     },
     "execution_count": 7,
     "metadata": {},
     "output_type": "execute_result"
    }
   ],
   "source": [
    "train.columns"
   ]
  },
  {
   "cell_type": "code",
   "execution_count": 8,
   "metadata": {
    "collapsed": false
   },
   "outputs": [],
   "source": [
    "# transform to one column for tfidf transformation\n",
    "# tfidf_input = pd.Series(train[\"question1\"].tolist() + \\\n",
    "#               train[\"question2\"].tolist() + \\\n",
    "#               test[\"question1\"].tolist()  + \\\n",
    "#               test[\"question2\"].tolist()).astype(str)\n",
    "\n",
    "# tfidf = TfidfVectorizer(stop_words='english', ngram_range=(1, 1))\n",
    "# tfidf.fit_transform(tfidf_input)"
   ]
  },
  {
   "cell_type": "code",
   "execution_count": 9,
   "metadata": {
    "collapsed": false
   },
   "outputs": [],
   "source": [
    "def get_common_ratio(seq1,seq2):\n",
    "    \"\"\"\n",
    "    This function is to compare and get the ratio of similarity between two sequences\n",
    "    \"\"\"\n",
    "    seqMatch = difflib.SequenceMatcher(a=seq1, b=seq2)\n",
    "    return seqMatch.ratio()"
   ]
  },
  {
   "cell_type": "code",
   "execution_count": 10,
   "metadata": {
    "collapsed": true
   },
   "outputs": [],
   "source": [
    "def get_common_bigrams_ratio(list1,list2):\n",
    "    seqMatch = difflib.SequenceMatcher(a=list1, b=list2)\n",
    "    return seqMatch.ratio()"
   ]
  },
  {
   "cell_type": "code",
   "execution_count": 11,
   "metadata": {
    "collapsed": true
   },
   "outputs": [],
   "source": [
    "def word_match_share(row):\n",
    "    q1words = {}\n",
    "    q2words = {}\n",
    "    for word in str(row['question1']).lower().split():\n",
    "        if word not in stops:\n",
    "            q1words[word] = 1\n",
    "    for word in str(row['question2']).lower().split():\n",
    "        if word not in stops:\n",
    "            q2words[word] = 1\n",
    "    if len(q1words) == 0 or len(q2words) == 0:\n",
    "        return 0\n",
    "    shared_words_in_q1 = [w for w in q1words.keys() if w in q2words]\n",
    "    shared_words_in_q2 = [w for w in q2words.keys() if w in q1words]\n",
    "    R = (len(shared_words_in_q1) + len(shared_words_in_q2))/(len(q1words) + len(q2words))\n",
    "    return R"
   ]
  },
  {
   "cell_type": "code",
   "execution_count": 12,
   "metadata": {
    "collapsed": true
   },
   "outputs": [],
   "source": [
    "def get_bigrams(que):\n",
    "    return [\" \".join(list(map(lambda x: str(x).strip(\",\"),i))) for i in nltk.ngrams(str(que).split(), 2)]"
   ]
  },
  {
   "cell_type": "code",
   "execution_count": 13,
   "metadata": {
    "collapsed": false
   },
   "outputs": [],
   "source": [
    "def extract_feat(feat_mat):\n",
    "    \"\"\"\n",
    "    To extract features from q1 and q2\n",
    "    \"\"\"\n",
    "    print(\"1..\")\n",
    "    # extract nouns\n",
    "    feat_mat[\"z1_nouns\"] = feat_mat.question1.apply( \\\n",
    "        lambda x: [str(w).lower() for w,t in \\\n",
    "                   nltk.pos_tag(nltk.word_tokenize(str(x).lower())) if t[0] == \"N\"])\n",
    "    feat_mat[\"z2_nouns\"] = feat_mat.question2.apply( \\\n",
    "        lambda x: [str(w).lower() for w,t in \\\n",
    "                   nltk.pos_tag(nltk.word_tokenize(str(x).lower())) if t[0] == \"N\"])\n",
    "    \n",
    "    print(\"2..\")\n",
    "    # extract none match counts and ratio\n",
    "    feat_mat[\"z_noun_match\"] = feat_mat[[\"z1_nouns\",\"z2_nouns\"]].apply(\n",
    "        lambda x: len([w for w in x.z1_nouns if w in x.z2_nouns]),\n",
    "        axis = 1)\n",
    "    \n",
    "    feat_mat['z_noun_match_ratio'] = feat_mat.apply( \\\n",
    "        lambda x: get_common_ratio(x.z1_nouns, x.z2_nouns), \n",
    "        axis=1)\n",
    "    \n",
    "    print(\"3..\")\n",
    "    # extract length\n",
    "    feat_mat[\"z1_len\"] = feat_mat[\"question1\"].apply( \\\n",
    "        lambda x: len(str(x)))\n",
    "    feat_mat[\"z2_len\"] = feat_mat[\"question2\"].apply( \\\n",
    "        lambda x: len(str(x)))\n",
    "    feat_mat[\"z1_word_len\"] = feat_mat[\"question1\"].apply( \\\n",
    "        lambda x: len(str(x).split()))\n",
    "    feat_mat[\"z2_word_len\"] = feat_mat[\"question2\"].apply( \\\n",
    "        lambda x: len(str(x).split()))\n",
    "    \n",
    "    print(\"4..\")\n",
    "    # extract word match\n",
    "    feat_mat['z_word_match'] = feat_mat.apply(word_match_share, axis=1, raw=True)\n",
    "    \n",
    "    # extract bigrams\n",
    "    feat_mat['z1_bigrams'] = feat_mat[\"question1\"].apply(get_bigrams)\n",
    "    feat_mat['z2_bigrams'] = feat_mat[\"question2\"].apply(get_bigrams)\n",
    "    \n",
    "    # extract common bigrams\n",
    "    feat_mat['z_common_bigrams'] = feat_mat[['z1_bigrams','z2_bigrams']].apply(\n",
    "        lambda x: get_common_bigrams_ratio(x.z1_bigrams,x.z2_bigrams), axis = 1)\n",
    "    \n",
    "    # processing\n",
    "    feat_mat = feat_mat.drop(['z1_bigrams','z2_bigrams',\"z1_nouns\",\"z2_nouns\"],axis=1)\n",
    "    feat_mat = feat_mat.fillna(-1)\n",
    "    \n",
    "    return feat_mat"
   ]
  },
  {
   "cell_type": "markdown",
   "metadata": {},
   "source": [
    "extract features and scale the amount of positive and negative data"
   ]
  },
  {
   "cell_type": "code",
   "execution_count": 14,
   "metadata": {
    "collapsed": false
   },
   "outputs": [
    {
     "name": "stdout",
     "output_type": "stream",
     "text": [
      "1..\n",
      "2..\n",
      "3..\n",
      "4..\n"
     ]
    }
   ],
   "source": [
    "train = extract_feat(train)"
   ]
  },
  {
   "cell_type": "code",
   "execution_count": 15,
   "metadata": {
    "collapsed": false
   },
   "outputs": [
    {
     "name": "stdout",
     "output_type": "stream",
     "text": [
      "1..\n",
      "2..\n",
      "3..\n",
      "4..\n"
     ]
    }
   ],
   "source": [
    "test = extract_feat(test)"
   ]
  },
  {
   "cell_type": "code",
   "execution_count": 16,
   "metadata": {
    "collapsed": false
   },
   "outputs": [],
   "source": [
    "train_col = [x for x in train.columns if x[0] == \"z\"]\n",
    "test_col = [x for x in test.columns if x[0] == \"z\"]"
   ]
  },
  {
   "cell_type": "code",
   "execution_count": 17,
   "metadata": {
    "collapsed": false
   },
   "outputs": [
    {
     "data": {
      "text/plain": [
       "['z_noun_match',\n",
       " 'z_noun_match_ratio',\n",
       " 'z1_len',\n",
       " 'z2_len',\n",
       " 'z1_word_len',\n",
       " 'z2_word_len',\n",
       " 'z_word_match',\n",
       " 'z_common_bigrams']"
      ]
     },
     "execution_count": 17,
     "metadata": {},
     "output_type": "execute_result"
    }
   ],
   "source": [
    "train_col"
   ]
  },
  {
   "cell_type": "code",
   "execution_count": 18,
   "metadata": {
    "collapsed": true
   },
   "outputs": [],
   "source": [
    "pos_train = train[train['is_duplicate'] == 1]\n",
    "neg_train = train[train['is_duplicate'] == 0]\n",
    "p = 0.165\n",
    "scale = ((len(pos_train) / (len(pos_train) + len(neg_train))) / p) - 1\n",
    "\n",
    "while scale > 1:\n",
    "    neg_train = pd.concat([neg_train, neg_train])\n",
    "    scale -=1\n",
    "    \n",
    "neg_train = pd.concat([neg_train, neg_train[:int(scale * len(neg_train))]])\n",
    "train = pd.concat([pos_train, neg_train])"
   ]
  },
  {
   "cell_type": "markdown",
   "metadata": {},
   "source": [
    "train test split"
   ]
  },
  {
   "cell_type": "code",
   "execution_count": 19,
   "metadata": {
    "collapsed": true
   },
   "outputs": [],
   "source": [
    "X_train, X_test, y_train, y_test = train_test_split(train[train_col], train[\"is_duplicate\"],\n",
    "                                                    test_size = 0.3, random_state = 0)"
   ]
  },
  {
   "cell_type": "code",
   "execution_count": 20,
   "metadata": {
    "collapsed": false
   },
   "outputs": [
    {
     "data": {
      "text/plain": [
       "(546340,)"
      ]
     },
     "execution_count": 20,
     "metadata": {},
     "output_type": "execute_result"
    }
   ],
   "source": [
    "y_train.shape"
   ]
  },
  {
   "cell_type": "code",
   "execution_count": 21,
   "metadata": {
    "collapsed": false
   },
   "outputs": [],
   "source": [
    "dtrain = xgb.DMatrix(X_train, label=y_train)"
   ]
  },
  {
   "cell_type": "code",
   "execution_count": 22,
   "metadata": {
    "collapsed": false
   },
   "outputs": [],
   "source": [
    "params = {\n",
    "    'min_child_weight': 1,\n",
    "    'eta': 0.01,\n",
    "    'colsample_bytree': 1,\n",
    "    'max_depth': 12,\n",
    "    'subsample': 0.2,\n",
    "    'reg_alpha': 1,\n",
    "    'gamma': 0.04,\n",
    "    'silent':True,\n",
    "    \"eval_metric\":\"logloss\"}"
   ]
  },
  {
   "cell_type": "code",
   "execution_count": 23,
   "metadata": {
    "collapsed": true
   },
   "outputs": [],
   "source": [
    "xgtrain = xgb.DMatrix(X_train, label=y_train)\n",
    "xgval = xgb.DMatrix(X_test, label=y_test)"
   ]
  },
  {
   "cell_type": "code",
   "execution_count": 24,
   "metadata": {
    "collapsed": false
   },
   "outputs": [
    {
     "name": "stdout",
     "output_type": "stream",
     "text": [
      "[0]\tvalidation-logloss:0.687868\n",
      "Will train until validation-logloss hasn't improved in 50 rounds.\n",
      "[50]\tvalidation-logloss:0.51523\n",
      "[100]\tvalidation-logloss:0.434243\n",
      "[150]\tvalidation-logloss:0.39168\n",
      "[200]\tvalidation-logloss:0.367965\n",
      "[250]\tvalidation-logloss:0.354093\n",
      "[300]\tvalidation-logloss:0.345717\n",
      "[350]\tvalidation-logloss:0.340502\n",
      "[400]\tvalidation-logloss:0.337139\n",
      "[450]\tvalidation-logloss:0.334666\n",
      "[500]\tvalidation-logloss:0.332651\n",
      "[550]\tvalidation-logloss:0.331466\n",
      "[600]\tvalidation-logloss:0.330851\n",
      "[650]\tvalidation-logloss:0.32978\n",
      "[700]\tvalidation-logloss:0.329222\n",
      "[750]\tvalidation-logloss:0.32849\n",
      "[800]\tvalidation-logloss:0.328742\n",
      "Stopping. Best iteration:\n",
      "[755]\tvalidation-logloss:0.328412\n",
      "\n"
     ]
    }
   ],
   "source": [
    "# fit model no training data\n",
    "gb_model = xgb.train(params, \n",
    "                     dtrain=xgtrain, \n",
    "                     verbose_eval = 50,\n",
    "                     evals=[(xgval,\"validation\")], \n",
    "                     early_stopping_rounds = 50,\n",
    "                     num_boost_round = 2000)"
   ]
  },
  {
   "cell_type": "code",
   "execution_count": 25,
   "metadata": {
    "collapsed": false
   },
   "outputs": [
    {
     "data": {
      "image/png": "[encoded data removed]",
      "text/plain": [
       "<matplotlib.figure.Figure at 0x7f1949e1b908>"
      ]
     },
     "metadata": {},
     "output_type": "display_data"
    }
   ],
   "source": [
    "xgb.plot_importance(gb_model)\n",
    "plt.show()"
   ]
  },
  {
   "cell_type": "markdown",
   "metadata": {},
   "source": [
    "best cv: 0.328412"
   ]
  },
  {
   "cell_type": "markdown",
   "metadata": {
    "collapsed": true
   },
   "source": [
    "### prediction and submission"
   ]
  },
  {
   "cell_type": "code",
   "execution_count": 26,
   "metadata": {
    "collapsed": true
   },
   "outputs": [],
   "source": [
    "X_train, y_train = train[train_col],train[\"is_duplicate\"]"
   ]
  },
  {
   "cell_type": "code",
   "execution_count": 27,
   "metadata": {
    "collapsed": true
   },
   "outputs": [],
   "source": [
    "dtrain = xgb.DMatrix(X_train, label=y_train)"
   ]
  },
  {
   "cell_type": "code",
   "execution_count": 28,
   "metadata": {
    "collapsed": true
   },
   "outputs": [],
   "source": [
    "params = {\n",
    "    'min_child_weight': 1,\n",
    "    'eta': 0.01,\n",
    "    'colsample_bytree': 1,\n",
    "    'max_depth': 12,\n",
    "    'subsample': 0.2,\n",
    "    'reg_alpha': 1,\n",
    "    'gamma': 0.04,\n",
    "    'silent':True,\n",
    "    \"eval_metric\":\"logloss\"}"
   ]
  },
  {
   "cell_type": "code",
   "execution_count": 37,
   "metadata": {
    "collapsed": false
   },
   "outputs": [],
   "source": [
    "xgtrain = xgb.DMatrix(X_train, label=y_train)\n",
    "xgtest = xgb.DMatrix(test[test_col])"
   ]
  },
  {
   "cell_type": "code",
   "execution_count": 42,
   "metadata": {
    "collapsed": false
   },
   "outputs": [],
   "source": [
    "test_id = test[\"test_id\"]"
   ]
  },
  {
   "cell_type": "code",
   "execution_count": 30,
   "metadata": {
    "collapsed": true
   },
   "outputs": [],
   "source": [
    "# fit model no training data\n",
    "gb_model = xgb.train(params, \n",
    "                     dtrain=xgtrain, \n",
    "                     verbose_eval = 50,\n",
    "                     num_boost_round = 755)"
   ]
  },
  {
   "cell_type": "code",
   "execution_count": 38,
   "metadata": {
    "collapsed": false
   },
   "outputs": [],
   "source": [
    "y_pred = gb_model.predict(xgtest)"
   ]
  },
  {
   "cell_type": "code",
   "execution_count": 47,
   "metadata": {
    "collapsed": false
   },
   "outputs": [
    {
     "data": {
      "text/plain": [
       "<matplotlib.axes._subplots.AxesSubplot at 0x7f1a1404a240>"
      ]
     },
     "execution_count": 47,
     "metadata": {},
     "output_type": "execute_result"
    },
    {
     "data": {
      "image/png": "[encoded data removed]",
      "text/plain": [
       "<matplotlib.figure.Figure at 0x7f1a13f0e8d0>"
      ]
     },
     "metadata": {},
     "output_type": "display_data"
    }
   ],
   "source": [
    "pd.Series(y_pred).hist()"
   ]
  },
  {
   "cell_type": "code",
   "execution_count": 54,
   "metadata": {
    "collapsed": false
   },
   "outputs": [],
   "source": [
    "sub1 = pd.DataFrame({\"test_id\":test_id,\"is_duplicate\":y_pred},columns=[\"test_id\",\"is_duplicate\"])"
   ]
  },
  {
   "cell_type": "code",
   "execution_count": 57,
   "metadata": {
    "collapsed": true
   },
   "outputs": [],
   "source": [
    "sub1.to_csv(\"../submit/sub1.csv\",index=False, header=True, cols=[\"test_id\",\"is_duplicate\"])"
   ]
  }
 ],
 "metadata": {
  "anaconda-cloud": {},
  "kernelspec": {
   "display_name": "Python [Root]",
   "language": "python",
   "name": "Python [Root]"
  },
  "language_info": {
   "codemirror_mode": {
    "name": "ipython",
    "version": 3
   },
   "file_extension": ".py",
   "mimetype": "text/x-python",
   "name": "python",
   "nbconvert_exporter": "python",
   "pygments_lexer": "ipython3",
   "version": "3.5.2"
  }
 },
 "nbformat": 4,
 "nbformat_minor": 0
}
